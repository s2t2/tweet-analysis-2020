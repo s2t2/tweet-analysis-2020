{
  "nbformat": 4,
  "nbformat_minor": 0,
  "metadata": {
    "colab": {
      "name": "User Details 20210806 - Exporting to CSV",
      "provenance": [],
      "collapsed_sections": [],
      "include_colab_link": true
    },
    "kernelspec": {
      "display_name": "Python 3",
      "name": "python3"
    }
  },
  "cells": [
    {
      "cell_type": "markdown",
      "metadata": {
        "id": "view-in-github",
        "colab_type": "text"
      },
      "source": [
        "<a href=\"https://colab.research.google.com/github/s2t2/tweet-analysis-2020/blob/news/app/news/User_Details_20210806_Exporting_to_CSV.ipynb\" target=\"_parent\"><img src=\"https://colab.research.google.com/assets/colab-badge.svg\" alt=\"Open In Colab\"/></a>"
      ]
    },
    {
      "cell_type": "markdown",
      "metadata": {
        "id": "qXTCv562wHXp"
      },
      "source": [
        "# Setup"
      ]
    },
    {
      "cell_type": "code",
      "metadata": {
        "colab": {
          "base_uri": "https://localhost:8080/"
        },
        "id": "gFjn74symzsA",
        "outputId": "0a61aabf-3e0a-4280-c465-f2057adc2918"
      },
      "source": [
        "#\n",
        "# SETUP GOOGLE DRIVE\n",
        "#\n",
        "\n",
        "import os\n",
        "from google.colab import drive\n",
        "\n",
        "drive.mount('/content/drive')\n",
        "print(os.getcwd(), os.listdir(os.getcwd())) #> 'content', ['.config', 'drive', 'sample_data']\n",
        "\n",
        "DIRPATH = '/content/drive/My Drive/NeuralNetworkOpinions/Impeachment'\n",
        "print(DIRPATH)\n",
        "os.path.isdir(DIRPATH)"
      ],
      "execution_count": 3,
      "outputs": [
        {
          "output_type": "stream",
          "text": [
            "Go to this URL in a browser: https://accounts.google.com/o/oauth2/auth?client_id=947318989803-6bn6qk8qdgf4n4g3pfee6491hc0brc4i.apps.googleusercontent.com&redirect_uri=urn%3aietf%3awg%3aoauth%3a2.0%3aoob&scope=email%20https%3a%2f%2fwww.googleapis.com%2fauth%2fdocs.test%20https%3a%2f%2fwww.googleapis.com%2fauth%2fdrive%20https%3a%2f%2fwww.googleapis.com%2fauth%2fdrive.photos.readonly%20https%3a%2f%2fwww.googleapis.com%2fauth%2fpeopleapi.readonly%20https%3a%2f%2fwww.googleapis.com%2fauth%2fdrive.activity.readonly%20https%3a%2f%2fwww.googleapis.com%2fauth%2fexperimentsandconfigs%20https%3a%2f%2fwww.googleapis.com%2fauth%2fphotos.native&response_type=code\n",
            "\n",
            "Enter your authorization code:\n",
            "4/1AX4XfWgQSexiG9NDznxgdGdQh5gWyYapVzjqZK_PH1W-QYESKiBBdXFwZaw\n",
            "Mounted at /content/drive\n",
            "/content ['.config', 'drive', 'sample_data']\n",
            "/content/drive/My Drive/NeuralNetworkOpinions/Impeachment\n"
          ],
          "name": "stdout"
        },
        {
          "output_type": "execute_result",
          "data": {
            "text/plain": [
              "True"
            ]
          },
          "metadata": {
            "tags": []
          },
          "execution_count": 3
        }
      ]
    },
    {
      "cell_type": "code",
      "metadata": {
        "colab": {
          "base_uri": "https://localhost:8080/"
        },
        "id": "8r6SH2zV4c0z",
        "outputId": "4939e62d-d1c6-471e-9a26-6fa2d976087f"
      },
      "source": [
        "#\n",
        "# BIG QUERY CREDENTIALS\n",
        "#\n",
        "\n",
        "# google.cloud checks the file at path designated by the GOOGLE_APPLICATION_CREDENTIALS env var\n",
        "# so we set it here using the shared credentials JSON file from our shared google drive\n",
        "# and verify it for good measure\n",
        "\n",
        "GOOGLE_CREDENTIALS_FILEPATH = os.path.join(DIRPATH, \"credentials\", \"tweet-research-shared-268bbccc0aac.json\") \n",
        "os.environ[\"GOOGLE_APPLICATION_CREDENTIALS\"] = GOOGLE_CREDENTIALS_FILEPATH\n",
        "\n",
        "GOOGLE_APPLICATION_CREDENTIALS = os.getenv(\"GOOGLE_APPLICATION_CREDENTIALS\") # implicit check by google.cloud\n",
        "print(GOOGLE_APPLICATION_CREDENTIALS) # verification for implicit check\n",
        "print(os.path.isfile(GOOGLE_APPLICATION_CREDENTIALS)) # verification for implicit check"
      ],
      "execution_count": 4,
      "outputs": [
        {
          "output_type": "stream",
          "text": [
            "/content/drive/My Drive/NeuralNetworkOpinions/Impeachment/credentials/tweet-research-shared-268bbccc0aac.json\n",
            "True\n"
          ],
          "name": "stdout"
        }
      ]
    },
    {
      "cell_type": "code",
      "metadata": {
        "id": "GZ4lLKlA5H53"
      },
      "source": [
        "#\n",
        "# BIG QUERY SERVICE\n",
        "#\n",
        "\n",
        "from google.cloud import bigquery\n",
        "from pandas import DataFrame\n",
        "\n",
        "class BigQueryService():\n",
        "    def __init__(self):\n",
        "        self.client = bigquery.Client()\n",
        "\n",
        "    def execute_query(self, sql, verbose=True):\n",
        "        if verbose == True: \n",
        "            print(sql)\n",
        "        job = self.client.query(sql)\n",
        "        return job.result()\n",
        "    \n",
        "    def query_to_df(self, sql, verbose=True):\n",
        "        records = [dict(row) for row in list(self.execute_query(sql, verbose=verbose))]\n",
        "        return DataFrame(records)\n",
        "\n"
      ],
      "execution_count": 5,
      "outputs": []
    },
    {
      "cell_type": "markdown",
      "metadata": {
        "id": "Xjh7FqhV77_u"
      },
      "source": [
        "# Data Dictionary"
      ]
    },
    {
      "cell_type": "markdown",
      "metadata": {
        "id": "K6HmK0498ACX"
      },
      "source": [
        "\n",
        "\n",
        "\n",
        "column_name | datatype | description\n",
        "--- | --- | ---\n",
        "user_id\t| INTEGER | unique identifier for each user in our \"impeachment 2020\" dataset\n",
        "created_on\t| DATE | date the user was created\n",
        "screen_name_count\t| INTEGER | number of screen names used \n",
        "screen_names\t| STRING | all screen names used\n",
        "is_bot\t| BOOLEAN | whether or not we classified this user as a \"bot\" / automated account\n",
        "bot_rt_network\t| INTEGER | for bots, which retweet network (0:anti-trump, 1:pro-trump)\n",
        "is_q\t| BOOLEAN | whether or not this user tweeted Q-anon language / hashtags\n",
        "q_status_count\t| INTEGER | the number of tweets with Q-anon language / hashtags\n",
        "status_count\t| INTEGER | number of total tweets authoried by this user (in our \"impeachment 2020\" dataset only)\n",
        "rt_count\t| INTEGER | number of total retweets authoried by this user (in our \"impeachment 2020\" dataset only)\n",
        "avg_score_lr\t| FLOAT | avergage opinion score from our Logistic Regression model (0:anti-trump, 1:pro-trump)\n",
        "avg_score_nb\t| FLOAT | avergage opinion score from our Naive Bayes model (0:anti-trump, 1:pro-trump)\n",
        "avg_score_bert\t| FLOAT | avergage opinion score from our BERT Transformer model (0:anti-trump, 1:pro-trump) \n",
        "opinion_community\t| INTEGER | binary classification of average opinion (0:anti-trump, 1:pro-trump)\n",
        "follower_count\t| INTEGER | number of followers (in our \"impeachment 2020\" dataset only)\n",
        "follower_count_b\t| INTEGER | ... who are bots\n",
        "follower_count_h\t| INTEGER | ... who are humans\n",
        "friend_count\t| INTEGER | number of friends (in our \"impeachment 2020\" dataset only)\n",
        "friend_count_b\t| INTEGER | ... who are bots\n",
        "friend_count_h\t| INTEGER | ... who are humans\n",
        "avg_toxicity\t| FLOAT | average \"toxicity\" score from the Detoxify model\n",
        "avg_severe_toxicity\t| FLOAT | average \"sever toxicity\" score from the Detoxify model\n",
        "avg_insult\t| FLOAT | average \"insult\" score from the Detoxify model\n",
        "avg_obscene\t| FLOAT | average \"obscene\" score from the Detoxify model\n",
        "avg_threat\t| FLOAT | average \"threat\" score from the Detoxify model\n",
        "avg_identity_hate\t| FLOAT | average \"identity hate\" score from the Detoxify model\n",
        "urls_shared_count (TODO)\t| INTEGER | number of tweets with URLs in them (TODO)\n",
        "fact_scored_count\t| INTEGER | number of tweets with URL domains that we have rankings for\n",
        "avg_fact_score\t| FLOAT | average fact score of links shared (1: fake news, 5: mainstream media)"
      ]
    },
    {
      "cell_type": "markdown",
      "metadata": {
        "id": "kPM5owKI53BA"
      },
      "source": [
        "# CSV Pipeline "
      ]
    },
    {
      "cell_type": "code",
      "metadata": {
        "colab": {
          "base_uri": "https://localhost:8080/"
        },
        "id": "P1sUiWSd5466",
        "outputId": "21921fca-d1b6-4c82-d7a0-dae2b52ac944"
      },
      "source": [
        "from pandas import read_csv\n",
        "\n",
        "DESTRUCTIVE = True\n",
        "\n",
        "csv_filepath = os.path.join(DIRPATH, \"user_details_20210806.csv\")\n",
        "\n",
        "if os.path.isfile(csv_filepath) and not DESTRUCTIVE:\n",
        "    print(\"FOUND EXISTING CSV FILE!\")\n",
        "    df = read_csv(csv_filepath)\n",
        "else:\n",
        "    print(\"GENERATING NEW CSV FILE!\")\n",
        "    bq_service = BigQueryService()\n",
        "    sql = f\"\"\"\n",
        "        SELECT *\n",
        "        FROM `tweet-research-shared.impeachment_2020.user_details_v20210806_slim` u\n",
        "    \"\"\"\n",
        "    df = bq_service.query_to_df(sql)\n",
        "    df.to_csv(csv_filepath, index=False)\n"
      ],
      "execution_count": 10,
      "outputs": [
        {
          "output_type": "stream",
          "text": [
            "GENERATING NEW CSV FILE!\n",
            "\n",
            "        SELECT *\n",
            "        FROM `tweet-research-shared.impeachment_2020.user_details_v20210806_slim` u\n",
            "    \n"
          ],
          "name": "stdout"
        }
      ]
    },
    {
      "cell_type": "code",
      "metadata": {
        "colab": {
          "base_uri": "https://localhost:8080/",
          "height": 260
        },
        "id": "4T7B_KIi9DQr",
        "outputId": "3a5e3a7c-a939-4fc1-c66d-97b37c636871"
      },
      "source": [
        "print(len(df))\n",
        "df.head()"
      ],
      "execution_count": 9,
      "outputs": [
        {
          "output_type": "stream",
          "text": [
            "3600545\n"
          ],
          "name": "stdout"
        },
        {
          "output_type": "execute_result",
          "data": {
            "text/html": [
              "<div>\n",
              "<style scoped>\n",
              "    .dataframe tbody tr th:only-of-type {\n",
              "        vertical-align: middle;\n",
              "    }\n",
              "\n",
              "    .dataframe tbody tr th {\n",
              "        vertical-align: top;\n",
              "    }\n",
              "\n",
              "    .dataframe thead th {\n",
              "        text-align: right;\n",
              "    }\n",
              "</style>\n",
              "<table border=\"1\" class=\"dataframe\">\n",
              "  <thead>\n",
              "    <tr style=\"text-align: right;\">\n",
              "      <th></th>\n",
              "      <th>Unnamed: 0</th>\n",
              "      <th>user_id</th>\n",
              "      <th>created_on</th>\n",
              "      <th>screen_name_count</th>\n",
              "      <th>screen_names</th>\n",
              "      <th>is_bot</th>\n",
              "      <th>bot_rt_network</th>\n",
              "      <th>is_q</th>\n",
              "      <th>q_status_count</th>\n",
              "      <th>status_count</th>\n",
              "      <th>rt_count</th>\n",
              "      <th>avg_score_lr</th>\n",
              "      <th>avg_score_nb</th>\n",
              "      <th>avg_score_bert</th>\n",
              "      <th>opinion_community</th>\n",
              "      <th>follower_count</th>\n",
              "      <th>follower_count_b</th>\n",
              "      <th>follower_count_h</th>\n",
              "      <th>friend_count</th>\n",
              "      <th>friend_count_b</th>\n",
              "      <th>friend_count_h</th>\n",
              "      <th>avg_toxicity</th>\n",
              "      <th>avg_severe_toxicity</th>\n",
              "      <th>avg_insult</th>\n",
              "      <th>avg_obscene</th>\n",
              "      <th>avg_threat</th>\n",
              "      <th>avg_identity_hate</th>\n",
              "      <th>fact_scored_count</th>\n",
              "      <th>avg_fact_score</th>\n",
              "    </tr>\n",
              "  </thead>\n",
              "  <tbody>\n",
              "    <tr>\n",
              "      <th>0</th>\n",
              "      <td>0</td>\n",
              "      <td>1201029281482235904</td>\n",
              "      <td>2019-12-01</td>\n",
              "      <td>1</td>\n",
              "      <td>HARRIETSUSAN4</td>\n",
              "      <td>False</td>\n",
              "      <td>NaN</td>\n",
              "      <td>False</td>\n",
              "      <td>NaN</td>\n",
              "      <td>18</td>\n",
              "      <td>16</td>\n",
              "      <td>0.0556</td>\n",
              "      <td>0.1111</td>\n",
              "      <td>0.0046</td>\n",
              "      <td>0</td>\n",
              "      <td>66.0</td>\n",
              "      <td>2.0</td>\n",
              "      <td>64.0</td>\n",
              "      <td>343.0</td>\n",
              "      <td>6.0</td>\n",
              "      <td>337.0</td>\n",
              "      <td>0.050687</td>\n",
              "      <td>0.000232</td>\n",
              "      <td>0.002113</td>\n",
              "      <td>0.001177</td>\n",
              "      <td>0.000461</td>\n",
              "      <td>0.003759</td>\n",
              "      <td>0</td>\n",
              "      <td>NaN</td>\n",
              "    </tr>\n",
              "    <tr>\n",
              "      <th>1</th>\n",
              "      <td>1</td>\n",
              "      <td>337091850</td>\n",
              "      <td>2011-07-17</td>\n",
              "      <td>1</td>\n",
              "      <td>SUSANMMRAZ</td>\n",
              "      <td>False</td>\n",
              "      <td>NaN</td>\n",
              "      <td>False</td>\n",
              "      <td>NaN</td>\n",
              "      <td>105</td>\n",
              "      <td>80</td>\n",
              "      <td>0.0962</td>\n",
              "      <td>0.0667</td>\n",
              "      <td>0.0747</td>\n",
              "      <td>0</td>\n",
              "      <td>1072.0</td>\n",
              "      <td>49.0</td>\n",
              "      <td>1023.0</td>\n",
              "      <td>1742.0</td>\n",
              "      <td>120.0</td>\n",
              "      <td>1622.0</td>\n",
              "      <td>0.115957</td>\n",
              "      <td>0.001983</td>\n",
              "      <td>0.058983</td>\n",
              "      <td>0.049420</td>\n",
              "      <td>0.000667</td>\n",
              "      <td>0.004879</td>\n",
              "      <td>2</td>\n",
              "      <td>3.892857</td>\n",
              "    </tr>\n",
              "    <tr>\n",
              "      <th>2</th>\n",
              "      <td>2</td>\n",
              "      <td>2370334990</td>\n",
              "      <td>2014-02-28</td>\n",
              "      <td>1</td>\n",
              "      <td>EDDIETHUNDER44</td>\n",
              "      <td>False</td>\n",
              "      <td>NaN</td>\n",
              "      <td>False</td>\n",
              "      <td>NaN</td>\n",
              "      <td>35</td>\n",
              "      <td>15</td>\n",
              "      <td>0.0857</td>\n",
              "      <td>0.0286</td>\n",
              "      <td>0.0637</td>\n",
              "      <td>0</td>\n",
              "      <td>1199.0</td>\n",
              "      <td>40.0</td>\n",
              "      <td>1159.0</td>\n",
              "      <td>1761.0</td>\n",
              "      <td>95.0</td>\n",
              "      <td>1666.0</td>\n",
              "      <td>0.129561</td>\n",
              "      <td>0.008591</td>\n",
              "      <td>0.058599</td>\n",
              "      <td>0.039499</td>\n",
              "      <td>0.009718</td>\n",
              "      <td>0.004566</td>\n",
              "      <td>0</td>\n",
              "      <td>NaN</td>\n",
              "    </tr>\n",
              "    <tr>\n",
              "      <th>3</th>\n",
              "      <td>3</td>\n",
              "      <td>858913836</td>\n",
              "      <td>2012-10-03</td>\n",
              "      <td>1</td>\n",
              "      <td>RICHARDCRESSE</td>\n",
              "      <td>True</td>\n",
              "      <td>NaN</td>\n",
              "      <td>True</td>\n",
              "      <td>1.0</td>\n",
              "      <td>700</td>\n",
              "      <td>681</td>\n",
              "      <td>0.9186</td>\n",
              "      <td>0.9257</td>\n",
              "      <td>0.9826</td>\n",
              "      <td>1</td>\n",
              "      <td>202.0</td>\n",
              "      <td>18.0</td>\n",
              "      <td>184.0</td>\n",
              "      <td>503.0</td>\n",
              "      <td>78.0</td>\n",
              "      <td>425.0</td>\n",
              "      <td>0.063513</td>\n",
              "      <td>0.000393</td>\n",
              "      <td>0.015775</td>\n",
              "      <td>0.012956</td>\n",
              "      <td>0.000578</td>\n",
              "      <td>0.001460</td>\n",
              "      <td>8</td>\n",
              "      <td>1.625000</td>\n",
              "    </tr>\n",
              "    <tr>\n",
              "      <th>4</th>\n",
              "      <td>4</td>\n",
              "      <td>622750531</td>\n",
              "      <td>2012-06-30</td>\n",
              "      <td>1</td>\n",
              "      <td>YERBOUTISHEIK</td>\n",
              "      <td>False</td>\n",
              "      <td>NaN</td>\n",
              "      <td>False</td>\n",
              "      <td>NaN</td>\n",
              "      <td>184</td>\n",
              "      <td>154</td>\n",
              "      <td>0.7772</td>\n",
              "      <td>0.8315</td>\n",
              "      <td>0.8826</td>\n",
              "      <td>1</td>\n",
              "      <td>2423.0</td>\n",
              "      <td>75.0</td>\n",
              "      <td>2348.0</td>\n",
              "      <td>1613.0</td>\n",
              "      <td>93.0</td>\n",
              "      <td>1520.0</td>\n",
              "      <td>0.120060</td>\n",
              "      <td>0.005381</td>\n",
              "      <td>0.050481</td>\n",
              "      <td>0.064212</td>\n",
              "      <td>0.002673</td>\n",
              "      <td>0.003119</td>\n",
              "      <td>1</td>\n",
              "      <td>2.642857</td>\n",
              "    </tr>\n",
              "  </tbody>\n",
              "</table>\n",
              "</div>"
            ],
            "text/plain": [
              "   Unnamed: 0              user_id  ... fact_scored_count  avg_fact_score\n",
              "0           0  1201029281482235904  ...                 0             NaN\n",
              "1           1            337091850  ...                 2        3.892857\n",
              "2           2           2370334990  ...                 0             NaN\n",
              "3           3            858913836  ...                 8        1.625000\n",
              "4           4            622750531  ...                 1        2.642857\n",
              "\n",
              "[5 rows x 29 columns]"
            ]
          },
          "metadata": {
            "tags": []
          },
          "execution_count": 9
        }
      ]
    }
  ]
}