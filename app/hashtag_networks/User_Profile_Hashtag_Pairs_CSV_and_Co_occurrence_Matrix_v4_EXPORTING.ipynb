{
  "nbformat": 4,
  "nbformat_minor": 0,
  "metadata": {
    "colab": {
      "provenance": [],
      "collapsed_sections": []
    },
    "kernelspec": {
      "name": "python3",
      "display_name": "Python 3"
    }
  },
  "cells": [
    {
      "cell_type": "markdown",
      "metadata": {
        "id": "Ymoi-E5OjZD5"
      },
      "source": [
        "# Setup"
      ]
    },
    {
      "cell_type": "markdown",
      "metadata": {
        "id": "Xy-Oy7V3jbAT"
      },
      "source": [
        "## Mounting the Drive"
      ]
    },
    {
      "cell_type": "code",
      "metadata": {
        "colab": {
          "base_uri": "https://localhost:8080/"
        },
        "id": "bG_NZo7ZgAau",
        "outputId": "5ff8f10d-e341-4e40-ea51-33df105e76c4"
      },
      "source": [
        "import os\n",
        "\n",
        "from google.colab import drive\n",
        "\n",
        "drive.mount('/content/drive')\n",
        "print(os.listdir(os.getcwd())) "
      ],
      "execution_count": 1,
      "outputs": [
        {
          "output_type": "stream",
          "name": "stdout",
          "text": [
            "Mounted at /content/drive\n",
            "['.config', 'drive', 'sample_data']\n"
          ]
        }
      ]
    },
    {
      "cell_type": "code",
      "metadata": {
        "colab": {
          "base_uri": "https://localhost:8080/"
        },
        "id": "ymjYWDkkg1qM",
        "outputId": "c4627b82-de15-4265-a516-a85a0e15531f"
      },
      "source": [
        "# you might need to create a google drive SHORTCUT that has this same path\n",
        "# ... or update the path to use your own google drive organization\n",
        "DIRPATH = '/content/drive/MyDrive/Research/Disinfo Research Shared 2022'\n",
        "print(DIRPATH)\n",
        "os.path.isdir(DIRPATH)"
      ],
      "execution_count": 2,
      "outputs": [
        {
          "output_type": "stream",
          "name": "stdout",
          "text": [
            "/content/drive/MyDrive/Research/Disinfo Research Shared 2022\n"
          ]
        },
        {
          "output_type": "execute_result",
          "data": {
            "text/plain": [
              "True"
            ]
          },
          "metadata": {},
          "execution_count": 2
        }
      ]
    },
    {
      "cell_type": "markdown",
      "metadata": {
        "id": "zRq45RoMjgeg"
      },
      "source": [
        "## Configuring Credentials \n"
      ]
    },
    {
      "cell_type": "code",
      "metadata": {
        "colab": {
          "base_uri": "https://localhost:8080/"
        },
        "id": "ZLXfpXHHiBJC",
        "outputId": "a672f34f-c6c7-4312-d56c-74868842839d"
      },
      "source": [
        "# google.cloud checks the file at path designated by the GOOGLE_APPLICATION_CREDENTIALS env var\n",
        "# so we set it here using the shared credentials JSON file from our shared google drive\n",
        "# and verify it for good measure\n",
        "\n",
        "os.environ[\"GOOGLE_APPLICATION_CREDENTIALS\"] = os.path.join(DIRPATH, \"credentials\", \"tweet-research-shared-268bbccc0aac.json\") \n",
        "\n",
        "GOOGLE_APPLICATION_CREDENTIALS = os.getenv(\"GOOGLE_APPLICATION_CREDENTIALS\") # implicit check by google.cloud\n",
        "print(GOOGLE_APPLICATION_CREDENTIALS) # verification for implicit check\n",
        "print(os.path.isfile(GOOGLE_APPLICATION_CREDENTIALS)) # verification for implicit check"
      ],
      "execution_count": 3,
      "outputs": [
        {
          "output_type": "stream",
          "name": "stdout",
          "text": [
            "/content/drive/MyDrive/Research/Disinfo Research Shared 2022/credentials/tweet-research-shared-268bbccc0aac.json\n",
            "True\n"
          ]
        }
      ]
    },
    {
      "cell_type": "markdown",
      "metadata": {
        "id": "ltGBbXFpmTA6"
      },
      "source": [
        "# Helpers"
      ]
    },
    {
      "cell_type": "markdown",
      "metadata": {
        "id": "D7AHRh645FX3"
      },
      "source": [
        "### BigQuery Service"
      ]
    },
    {
      "cell_type": "code",
      "metadata": {
        "id": "yOz8eD9JkA7-"
      },
      "source": [
        "\n",
        "from google.cloud import bigquery\n",
        "from pandas import DataFrame\n",
        "\n",
        "class BigQueryService():\n",
        "    def __init__(self):\n",
        "        self.client = bigquery.Client()\n",
        "\n",
        "    def execute_query(self, sql, verbose=True):\n",
        "        if verbose == True: \n",
        "            print(sql)\n",
        "        job = self.client.query(sql)\n",
        "        return job.result()\n",
        "    \n",
        "    def query_to_df(self, sql, verbose=True):\n",
        "        \"\"\"high-level wrapper to return a DataFrame\"\"\"\n",
        "        results = self.execute_query(sql, verbose=verbose)\n",
        "        records = [dict(row) for row in list(results)]\n",
        "        df = DataFrame(records)\n",
        "        return df\n"
      ],
      "execution_count": 4,
      "outputs": []
    },
    {
      "cell_type": "code",
      "metadata": {
        "id": "-qBZo9ezksZz",
        "colab": {
          "base_uri": "https://localhost:8080/"
        },
        "outputId": "b55e6622-831d-49c2-808f-b8759d523460"
      },
      "source": [
        "bq_service = BigQueryService()\n",
        "print(bq_service)"
      ],
      "execution_count": 5,
      "outputs": [
        {
          "output_type": "stream",
          "name": "stdout",
          "text": [
            "<__main__.BigQueryService object at 0x7f3731378a50>\n"
          ]
        }
      ]
    },
    {
      "cell_type": "markdown",
      "source": [
        "### Combinations Example"
      ],
      "metadata": {
        "id": "qpSAQ6gLApbJ"
      }
    },
    {
      "cell_type": "code",
      "source": [
        "from itertools import combinations\n",
        "\n",
        "print(list(combinations([\"a\"], 2)))\n",
        "print(list(combinations([\"a\", \"b\"], 2)))\n",
        "print(list(combinations([\"a\", \"b\", \"c\"], 2)))\n",
        "print(list(combinations([\"a\", \"b\", \"c\", \"d\"], 2)))"
      ],
      "metadata": {
        "colab": {
          "base_uri": "https://localhost:8080/"
        },
        "id": "EWh6MAQkDiPU",
        "outputId": "d0e9bd59-b879-4ea5-9a3c-5990ec1dd5e2"
      },
      "execution_count": 8,
      "outputs": [
        {
          "output_type": "stream",
          "name": "stdout",
          "text": [
            "[]\n",
            "[('a', 'b')]\n",
            "[('a', 'b'), ('a', 'c'), ('b', 'c')]\n",
            "[('a', 'b'), ('a', 'c'), ('a', 'd'), ('b', 'c'), ('b', 'd'), ('c', 'd')]\n"
          ]
        }
      ]
    },
    {
      "cell_type": "markdown",
      "metadata": {
        "id": "4t48ewACjXQy"
      },
      "source": [
        "# Usage"
      ]
    },
    {
      "cell_type": "markdown",
      "source": [
        "## User Profile Hashtag Lists"
      ],
      "metadata": {
        "id": "7QXw4YUXCWCM"
      }
    },
    {
      "cell_type": "markdown",
      "source": [
        "First, let's fetch all user profile tags from the database. We have a row per user_id, with a list of distinct tags that they ever mentioned in their profile during the duration of our collection period."
      ],
      "metadata": {
        "id": "BJH_2L_jUB0X"
      }
    },
    {
      "cell_type": "code",
      "source": [
        "sql = f\"\"\"\n",
        "    SELECT user_id, distinct_tags as tags\n",
        "    FROM `tweet-research-shared.impeachment_2020.profile_tags_v2_distinct`\n",
        "    WHERE ARRAY_LENGTH(distinct_tags) > 1 -- we only care about co-occurances\n",
        "\"\"\"\n",
        "\n",
        "user_tags_df = bq_service.query_to_df(sql)\n",
        "print(len(user_tags_df))\n",
        "user_tags_df.head()"
      ],
      "metadata": {
        "colab": {
          "base_uri": "https://localhost:8080/",
          "height": 313
        },
        "id": "4A04Hf4NCZI4",
        "outputId": "154fb144-6f4f-4e92-d47b-6b8c98f7aa83"
      },
      "execution_count": 7,
      "outputs": [
        {
          "output_type": "stream",
          "name": "stdout",
          "text": [
            "\n",
            "    SELECT user_id, distinct_tags as tags\n",
            "    FROM `tweet-research-shared.impeachment_2020.profile_tags_v2_distinct`\n",
            "    WHERE ARRAY_LENGTH(distinct_tags) > 1 -- we only care about co-occurances\n",
            "\n",
            "258821\n"
          ]
        },
        {
          "output_type": "execute_result",
          "data": {
            "text/plain": [
              "               user_id           tags\n",
              "0             22762000       [#0, #2]\n",
              "1           1864065690  [#0, #JUNKIE]\n",
              "2           2785726018       [#1, #2]\n",
              "3  1125970519298269185       [#1, #2]\n",
              "4            860854368       [#1, #2]"
            ],
            "text/html": [
              "\n",
              "  <div id=\"df-f18d4233-f673-4075-9897-0a5875b5de5f\">\n",
              "    <div class=\"colab-df-container\">\n",
              "      <div>\n",
              "<style scoped>\n",
              "    .dataframe tbody tr th:only-of-type {\n",
              "        vertical-align: middle;\n",
              "    }\n",
              "\n",
              "    .dataframe tbody tr th {\n",
              "        vertical-align: top;\n",
              "    }\n",
              "\n",
              "    .dataframe thead th {\n",
              "        text-align: right;\n",
              "    }\n",
              "</style>\n",
              "<table border=\"1\" class=\"dataframe\">\n",
              "  <thead>\n",
              "    <tr style=\"text-align: right;\">\n",
              "      <th></th>\n",
              "      <th>user_id</th>\n",
              "      <th>tags</th>\n",
              "    </tr>\n",
              "  </thead>\n",
              "  <tbody>\n",
              "    <tr>\n",
              "      <th>0</th>\n",
              "      <td>22762000</td>\n",
              "      <td>[#0, #2]</td>\n",
              "    </tr>\n",
              "    <tr>\n",
              "      <th>1</th>\n",
              "      <td>1864065690</td>\n",
              "      <td>[#0, #JUNKIE]</td>\n",
              "    </tr>\n",
              "    <tr>\n",
              "      <th>2</th>\n",
              "      <td>2785726018</td>\n",
              "      <td>[#1, #2]</td>\n",
              "    </tr>\n",
              "    <tr>\n",
              "      <th>3</th>\n",
              "      <td>1125970519298269185</td>\n",
              "      <td>[#1, #2]</td>\n",
              "    </tr>\n",
              "    <tr>\n",
              "      <th>4</th>\n",
              "      <td>860854368</td>\n",
              "      <td>[#1, #2]</td>\n",
              "    </tr>\n",
              "  </tbody>\n",
              "</table>\n",
              "</div>\n",
              "      <button class=\"colab-df-convert\" onclick=\"convertToInteractive('df-f18d4233-f673-4075-9897-0a5875b5de5f')\"\n",
              "              title=\"Convert this dataframe to an interactive table.\"\n",
              "              style=\"display:none;\">\n",
              "        \n",
              "  <svg xmlns=\"http://www.w3.org/2000/svg\" height=\"24px\"viewBox=\"0 0 24 24\"\n",
              "       width=\"24px\">\n",
              "    <path d=\"M0 0h24v24H0V0z\" fill=\"none\"/>\n",
              "    <path d=\"M18.56 5.44l.94 2.06.94-2.06 2.06-.94-2.06-.94-.94-2.06-.94 2.06-2.06.94zm-11 1L8.5 8.5l.94-2.06 2.06-.94-2.06-.94L8.5 2.5l-.94 2.06-2.06.94zm10 10l.94 2.06.94-2.06 2.06-.94-2.06-.94-.94-2.06-.94 2.06-2.06.94z\"/><path d=\"M17.41 7.96l-1.37-1.37c-.4-.4-.92-.59-1.43-.59-.52 0-1.04.2-1.43.59L10.3 9.45l-7.72 7.72c-.78.78-.78 2.05 0 2.83L4 21.41c.39.39.9.59 1.41.59.51 0 1.02-.2 1.41-.59l7.78-7.78 2.81-2.81c.8-.78.8-2.07 0-2.86zM5.41 20L4 18.59l7.72-7.72 1.47 1.35L5.41 20z\"/>\n",
              "  </svg>\n",
              "      </button>\n",
              "      \n",
              "  <style>\n",
              "    .colab-df-container {\n",
              "      display:flex;\n",
              "      flex-wrap:wrap;\n",
              "      gap: 12px;\n",
              "    }\n",
              "\n",
              "    .colab-df-convert {\n",
              "      background-color: #E8F0FE;\n",
              "      border: none;\n",
              "      border-radius: 50%;\n",
              "      cursor: pointer;\n",
              "      display: none;\n",
              "      fill: #1967D2;\n",
              "      height: 32px;\n",
              "      padding: 0 0 0 0;\n",
              "      width: 32px;\n",
              "    }\n",
              "\n",
              "    .colab-df-convert:hover {\n",
              "      background-color: #E2EBFA;\n",
              "      box-shadow: 0px 1px 2px rgba(60, 64, 67, 0.3), 0px 1px 3px 1px rgba(60, 64, 67, 0.15);\n",
              "      fill: #174EA6;\n",
              "    }\n",
              "\n",
              "    [theme=dark] .colab-df-convert {\n",
              "      background-color: #3B4455;\n",
              "      fill: #D2E3FC;\n",
              "    }\n",
              "\n",
              "    [theme=dark] .colab-df-convert:hover {\n",
              "      background-color: #434B5C;\n",
              "      box-shadow: 0px 1px 3px 1px rgba(0, 0, 0, 0.15);\n",
              "      filter: drop-shadow(0px 1px 2px rgba(0, 0, 0, 0.3));\n",
              "      fill: #FFFFFF;\n",
              "    }\n",
              "  </style>\n",
              "\n",
              "      <script>\n",
              "        const buttonEl =\n",
              "          document.querySelector('#df-f18d4233-f673-4075-9897-0a5875b5de5f button.colab-df-convert');\n",
              "        buttonEl.style.display =\n",
              "          google.colab.kernel.accessAllowed ? 'block' : 'none';\n",
              "\n",
              "        async function convertToInteractive(key) {\n",
              "          const element = document.querySelector('#df-f18d4233-f673-4075-9897-0a5875b5de5f');\n",
              "          const dataTable =\n",
              "            await google.colab.kernel.invokeFunction('convertToInteractive',\n",
              "                                                     [key], {});\n",
              "          if (!dataTable) return;\n",
              "\n",
              "          const docLinkHtml = 'Like what you see? Visit the ' +\n",
              "            '<a target=\"_blank\" href=https://colab.research.google.com/notebooks/data_table.ipynb>data table notebook</a>'\n",
              "            + ' to learn more about interactive tables.';\n",
              "          element.innerHTML = '';\n",
              "          dataTable['output_type'] = 'display_data';\n",
              "          await google.colab.output.renderOutput(dataTable, element);\n",
              "          const docLink = document.createElement('div');\n",
              "          docLink.innerHTML = docLinkHtml;\n",
              "          element.appendChild(docLink);\n",
              "        }\n",
              "      </script>\n",
              "    </div>\n",
              "  </div>\n",
              "  "
            ]
          },
          "metadata": {},
          "execution_count": 7
        }
      ]
    },
    {
      "cell_type": "code",
      "source": [
        "user_tags_df.iloc[0]"
      ],
      "metadata": {
        "colab": {
          "base_uri": "https://localhost:8080/"
        },
        "id": "7g8zC1ECAzmT",
        "outputId": "890ea6a6-d18c-4f28-c971-4c67609b0593"
      },
      "execution_count": 10,
      "outputs": [
        {
          "output_type": "execute_result",
          "data": {
            "text/plain": [
              "user_id    22762000\n",
              "tags       [#0, #2]\n",
              "Name: 0, dtype: object"
            ]
          },
          "metadata": {},
          "execution_count": 10
        }
      ]
    },
    {
      "cell_type": "code",
      "source": [
        "user_tags_df.iloc[0][\"tags\"]"
      ],
      "metadata": {
        "colab": {
          "base_uri": "https://localhost:8080/"
        },
        "id": "_fkc9HMWCdGL",
        "outputId": "71d579f3-7794-4985-bdb9-72f383b3e57d"
      },
      "execution_count": 9,
      "outputs": [
        {
          "output_type": "execute_result",
          "data": {
            "text/plain": [
              "['#0', '#2']"
            ]
          },
          "metadata": {},
          "execution_count": 9
        }
      ]
    },
    {
      "cell_type": "code",
      "source": [
        "user_tags_df.head()"
      ],
      "metadata": {
        "colab": {
          "base_uri": "https://localhost:8080/",
          "height": 206
        },
        "id": "r1plHQ9nBIM-",
        "outputId": "801b91b4-f40a-4cac-e7c1-6cc0a67a7f61"
      },
      "execution_count": 12,
      "outputs": [
        {
          "output_type": "execute_result",
          "data": {
            "text/plain": [
              "               user_id           tags\n",
              "0             22762000       [#0, #2]\n",
              "1           1864065690  [#0, #JUNKIE]\n",
              "2           2785726018       [#1, #2]\n",
              "3  1125970519298269185       [#1, #2]\n",
              "4            860854368       [#1, #2]"
            ],
            "text/html": [
              "\n",
              "  <div id=\"df-4033898a-0431-4e7c-b025-48711cc3a614\">\n",
              "    <div class=\"colab-df-container\">\n",
              "      <div>\n",
              "<style scoped>\n",
              "    .dataframe tbody tr th:only-of-type {\n",
              "        vertical-align: middle;\n",
              "    }\n",
              "\n",
              "    .dataframe tbody tr th {\n",
              "        vertical-align: top;\n",
              "    }\n",
              "\n",
              "    .dataframe thead th {\n",
              "        text-align: right;\n",
              "    }\n",
              "</style>\n",
              "<table border=\"1\" class=\"dataframe\">\n",
              "  <thead>\n",
              "    <tr style=\"text-align: right;\">\n",
              "      <th></th>\n",
              "      <th>user_id</th>\n",
              "      <th>tags</th>\n",
              "    </tr>\n",
              "  </thead>\n",
              "  <tbody>\n",
              "    <tr>\n",
              "      <th>0</th>\n",
              "      <td>22762000</td>\n",
              "      <td>[#0, #2]</td>\n",
              "    </tr>\n",
              "    <tr>\n",
              "      <th>1</th>\n",
              "      <td>1864065690</td>\n",
              "      <td>[#0, #JUNKIE]</td>\n",
              "    </tr>\n",
              "    <tr>\n",
              "      <th>2</th>\n",
              "      <td>2785726018</td>\n",
              "      <td>[#1, #2]</td>\n",
              "    </tr>\n",
              "    <tr>\n",
              "      <th>3</th>\n",
              "      <td>1125970519298269185</td>\n",
              "      <td>[#1, #2]</td>\n",
              "    </tr>\n",
              "    <tr>\n",
              "      <th>4</th>\n",
              "      <td>860854368</td>\n",
              "      <td>[#1, #2]</td>\n",
              "    </tr>\n",
              "  </tbody>\n",
              "</table>\n",
              "</div>\n",
              "      <button class=\"colab-df-convert\" onclick=\"convertToInteractive('df-4033898a-0431-4e7c-b025-48711cc3a614')\"\n",
              "              title=\"Convert this dataframe to an interactive table.\"\n",
              "              style=\"display:none;\">\n",
              "        \n",
              "  <svg xmlns=\"http://www.w3.org/2000/svg\" height=\"24px\"viewBox=\"0 0 24 24\"\n",
              "       width=\"24px\">\n",
              "    <path d=\"M0 0h24v24H0V0z\" fill=\"none\"/>\n",
              "    <path d=\"M18.56 5.44l.94 2.06.94-2.06 2.06-.94-2.06-.94-.94-2.06-.94 2.06-2.06.94zm-11 1L8.5 8.5l.94-2.06 2.06-.94-2.06-.94L8.5 2.5l-.94 2.06-2.06.94zm10 10l.94 2.06.94-2.06 2.06-.94-2.06-.94-.94-2.06-.94 2.06-2.06.94z\"/><path d=\"M17.41 7.96l-1.37-1.37c-.4-.4-.92-.59-1.43-.59-.52 0-1.04.2-1.43.59L10.3 9.45l-7.72 7.72c-.78.78-.78 2.05 0 2.83L4 21.41c.39.39.9.59 1.41.59.51 0 1.02-.2 1.41-.59l7.78-7.78 2.81-2.81c.8-.78.8-2.07 0-2.86zM5.41 20L4 18.59l7.72-7.72 1.47 1.35L5.41 20z\"/>\n",
              "  </svg>\n",
              "      </button>\n",
              "      \n",
              "  <style>\n",
              "    .colab-df-container {\n",
              "      display:flex;\n",
              "      flex-wrap:wrap;\n",
              "      gap: 12px;\n",
              "    }\n",
              "\n",
              "    .colab-df-convert {\n",
              "      background-color: #E8F0FE;\n",
              "      border: none;\n",
              "      border-radius: 50%;\n",
              "      cursor: pointer;\n",
              "      display: none;\n",
              "      fill: #1967D2;\n",
              "      height: 32px;\n",
              "      padding: 0 0 0 0;\n",
              "      width: 32px;\n",
              "    }\n",
              "\n",
              "    .colab-df-convert:hover {\n",
              "      background-color: #E2EBFA;\n",
              "      box-shadow: 0px 1px 2px rgba(60, 64, 67, 0.3), 0px 1px 3px 1px rgba(60, 64, 67, 0.15);\n",
              "      fill: #174EA6;\n",
              "    }\n",
              "\n",
              "    [theme=dark] .colab-df-convert {\n",
              "      background-color: #3B4455;\n",
              "      fill: #D2E3FC;\n",
              "    }\n",
              "\n",
              "    [theme=dark] .colab-df-convert:hover {\n",
              "      background-color: #434B5C;\n",
              "      box-shadow: 0px 1px 3px 1px rgba(0, 0, 0, 0.15);\n",
              "      filter: drop-shadow(0px 1px 2px rgba(0, 0, 0, 0.3));\n",
              "      fill: #FFFFFF;\n",
              "    }\n",
              "  </style>\n",
              "\n",
              "      <script>\n",
              "        const buttonEl =\n",
              "          document.querySelector('#df-4033898a-0431-4e7c-b025-48711cc3a614 button.colab-df-convert');\n",
              "        buttonEl.style.display =\n",
              "          google.colab.kernel.accessAllowed ? 'block' : 'none';\n",
              "\n",
              "        async function convertToInteractive(key) {\n",
              "          const element = document.querySelector('#df-4033898a-0431-4e7c-b025-48711cc3a614');\n",
              "          const dataTable =\n",
              "            await google.colab.kernel.invokeFunction('convertToInteractive',\n",
              "                                                     [key], {});\n",
              "          if (!dataTable) return;\n",
              "\n",
              "          const docLinkHtml = 'Like what you see? Visit the ' +\n",
              "            '<a target=\"_blank\" href=https://colab.research.google.com/notebooks/data_table.ipynb>data table notebook</a>'\n",
              "            + ' to learn more about interactive tables.';\n",
              "          element.innerHTML = '';\n",
              "          dataTable['output_type'] = 'display_data';\n",
              "          await google.colab.output.renderOutput(dataTable, element);\n",
              "          const docLink = document.createElement('div');\n",
              "          docLink.innerHTML = docLinkHtml;\n",
              "          element.appendChild(docLink);\n",
              "        }\n",
              "      </script>\n",
              "    </div>\n",
              "  </div>\n",
              "  "
            ]
          },
          "metadata": {},
          "execution_count": 12
        }
      ]
    },
    {
      "cell_type": "markdown",
      "source": [
        "## User Profile Hashtag Pairs"
      ],
      "metadata": {
        "id": "KM2vA-bOGPve"
      }
    },
    {
      "cell_type": "markdown",
      "source": [
        "Right now we have a row per unique user, but we want a row per unique user per hashtag pair."
      ],
      "metadata": {
        "id": "C9jQ3MabEHhw"
      }
    },
    {
      "cell_type": "code",
      "source": [
        "#%%time #> 25 seconds\n",
        "\n",
        "records = []\n",
        "for _, row in user_tags_df.iterrows():\n",
        "    \n",
        "    user_tag_pairs = list(combinations(row[\"tags\"], 2)) #> list of tuples\n",
        "\n",
        "    for tag_pair in user_tag_pairs:\n",
        "        records.append({\n",
        "            \"user_id\": row[\"user_id\"], \n",
        "            \"tag_0\": tag_pair[0], \n",
        "            \"tag_1\": tag_pair[1]\n",
        "        })\n",
        "\n",
        "user_pairs_df = DataFrame(records)\n",
        "user_pairs_df"
      ],
      "metadata": {
        "colab": {
          "base_uri": "https://localhost:8080/",
          "height": 459
        },
        "id": "OnubIRYuEGPX",
        "outputId": "4da15fb8-5ac9-4612-b78c-4036f0a39632"
      },
      "execution_count": 21,
      "outputs": [
        {
          "output_type": "stream",
          "name": "stdout",
          "text": [
            "CPU times: user 26.8 s, sys: 763 ms, total: 27.5 s\n",
            "Wall time: 27.6 s\n"
          ]
        },
        {
          "output_type": "execute_result",
          "data": {
            "text/plain": [
              "                     user_id  \\\n",
              "0                   22762000   \n",
              "1                 1864065690   \n",
              "2                 2785726018   \n",
              "3        1125970519298269185   \n",
              "4                  860854368   \n",
              "...                      ...   \n",
              "2846954           1163835134   \n",
              "2846955           1163835134   \n",
              "2846956           1163835134   \n",
              "2846957           1163835134   \n",
              "2846958           2641933281   \n",
              "\n",
              "                                                     tag_0          tag_1  \n",
              "0                                                       #0             #2  \n",
              "1                                                       #0        #JUNKIE  \n",
              "2                                                       #1             #2  \n",
              "3                                                       #1             #2  \n",
              "4                                                       #1             #2  \n",
              "...                                                    ...            ...  \n",
              "2846954                                        #TEAMROUSEY     #NOTREDAME  \n",
              "2846955                                      #TEAMMMA4LIFE     #WARLOVSKI  \n",
              "2846956                                      #TEAMMMA4LIFE     #NOTREDAME  \n",
              "2846957                                         #WARLOVSKI     #NOTREDAME  \n",
              "2846958  #THESEEYESCRYEVERYNIGHTFORYOUTHEHURTINSONMEYEA...  #BORROWEDEYES  \n",
              "\n",
              "[2846959 rows x 3 columns]"
            ],
            "text/html": [
              "\n",
              "  <div id=\"df-7b85489c-dcf6-4848-aaf8-a8dddda63e66\">\n",
              "    <div class=\"colab-df-container\">\n",
              "      <div>\n",
              "<style scoped>\n",
              "    .dataframe tbody tr th:only-of-type {\n",
              "        vertical-align: middle;\n",
              "    }\n",
              "\n",
              "    .dataframe tbody tr th {\n",
              "        vertical-align: top;\n",
              "    }\n",
              "\n",
              "    .dataframe thead th {\n",
              "        text-align: right;\n",
              "    }\n",
              "</style>\n",
              "<table border=\"1\" class=\"dataframe\">\n",
              "  <thead>\n",
              "    <tr style=\"text-align: right;\">\n",
              "      <th></th>\n",
              "      <th>user_id</th>\n",
              "      <th>tag_0</th>\n",
              "      <th>tag_1</th>\n",
              "    </tr>\n",
              "  </thead>\n",
              "  <tbody>\n",
              "    <tr>\n",
              "      <th>0</th>\n",
              "      <td>22762000</td>\n",
              "      <td>#0</td>\n",
              "      <td>#2</td>\n",
              "    </tr>\n",
              "    <tr>\n",
              "      <th>1</th>\n",
              "      <td>1864065690</td>\n",
              "      <td>#0</td>\n",
              "      <td>#JUNKIE</td>\n",
              "    </tr>\n",
              "    <tr>\n",
              "      <th>2</th>\n",
              "      <td>2785726018</td>\n",
              "      <td>#1</td>\n",
              "      <td>#2</td>\n",
              "    </tr>\n",
              "    <tr>\n",
              "      <th>3</th>\n",
              "      <td>1125970519298269185</td>\n",
              "      <td>#1</td>\n",
              "      <td>#2</td>\n",
              "    </tr>\n",
              "    <tr>\n",
              "      <th>4</th>\n",
              "      <td>860854368</td>\n",
              "      <td>#1</td>\n",
              "      <td>#2</td>\n",
              "    </tr>\n",
              "    <tr>\n",
              "      <th>...</th>\n",
              "      <td>...</td>\n",
              "      <td>...</td>\n",
              "      <td>...</td>\n",
              "    </tr>\n",
              "    <tr>\n",
              "      <th>2846954</th>\n",
              "      <td>1163835134</td>\n",
              "      <td>#TEAMROUSEY</td>\n",
              "      <td>#NOTREDAME</td>\n",
              "    </tr>\n",
              "    <tr>\n",
              "      <th>2846955</th>\n",
              "      <td>1163835134</td>\n",
              "      <td>#TEAMMMA4LIFE</td>\n",
              "      <td>#WARLOVSKI</td>\n",
              "    </tr>\n",
              "    <tr>\n",
              "      <th>2846956</th>\n",
              "      <td>1163835134</td>\n",
              "      <td>#TEAMMMA4LIFE</td>\n",
              "      <td>#NOTREDAME</td>\n",
              "    </tr>\n",
              "    <tr>\n",
              "      <th>2846957</th>\n",
              "      <td>1163835134</td>\n",
              "      <td>#WARLOVSKI</td>\n",
              "      <td>#NOTREDAME</td>\n",
              "    </tr>\n",
              "    <tr>\n",
              "      <th>2846958</th>\n",
              "      <td>2641933281</td>\n",
              "      <td>#THESEEYESCRYEVERYNIGHTFORYOUTHEHURTINSONMEYEA...</td>\n",
              "      <td>#BORROWEDEYES</td>\n",
              "    </tr>\n",
              "  </tbody>\n",
              "</table>\n",
              "<p>2846959 rows × 3 columns</p>\n",
              "</div>\n",
              "      <button class=\"colab-df-convert\" onclick=\"convertToInteractive('df-7b85489c-dcf6-4848-aaf8-a8dddda63e66')\"\n",
              "              title=\"Convert this dataframe to an interactive table.\"\n",
              "              style=\"display:none;\">\n",
              "        \n",
              "  <svg xmlns=\"http://www.w3.org/2000/svg\" height=\"24px\"viewBox=\"0 0 24 24\"\n",
              "       width=\"24px\">\n",
              "    <path d=\"M0 0h24v24H0V0z\" fill=\"none\"/>\n",
              "    <path d=\"M18.56 5.44l.94 2.06.94-2.06 2.06-.94-2.06-.94-.94-2.06-.94 2.06-2.06.94zm-11 1L8.5 8.5l.94-2.06 2.06-.94-2.06-.94L8.5 2.5l-.94 2.06-2.06.94zm10 10l.94 2.06.94-2.06 2.06-.94-2.06-.94-.94-2.06-.94 2.06-2.06.94z\"/><path d=\"M17.41 7.96l-1.37-1.37c-.4-.4-.92-.59-1.43-.59-.52 0-1.04.2-1.43.59L10.3 9.45l-7.72 7.72c-.78.78-.78 2.05 0 2.83L4 21.41c.39.39.9.59 1.41.59.51 0 1.02-.2 1.41-.59l7.78-7.78 2.81-2.81c.8-.78.8-2.07 0-2.86zM5.41 20L4 18.59l7.72-7.72 1.47 1.35L5.41 20z\"/>\n",
              "  </svg>\n",
              "      </button>\n",
              "      \n",
              "  <style>\n",
              "    .colab-df-container {\n",
              "      display:flex;\n",
              "      flex-wrap:wrap;\n",
              "      gap: 12px;\n",
              "    }\n",
              "\n",
              "    .colab-df-convert {\n",
              "      background-color: #E8F0FE;\n",
              "      border: none;\n",
              "      border-radius: 50%;\n",
              "      cursor: pointer;\n",
              "      display: none;\n",
              "      fill: #1967D2;\n",
              "      height: 32px;\n",
              "      padding: 0 0 0 0;\n",
              "      width: 32px;\n",
              "    }\n",
              "\n",
              "    .colab-df-convert:hover {\n",
              "      background-color: #E2EBFA;\n",
              "      box-shadow: 0px 1px 2px rgba(60, 64, 67, 0.3), 0px 1px 3px 1px rgba(60, 64, 67, 0.15);\n",
              "      fill: #174EA6;\n",
              "    }\n",
              "\n",
              "    [theme=dark] .colab-df-convert {\n",
              "      background-color: #3B4455;\n",
              "      fill: #D2E3FC;\n",
              "    }\n",
              "\n",
              "    [theme=dark] .colab-df-convert:hover {\n",
              "      background-color: #434B5C;\n",
              "      box-shadow: 0px 1px 3px 1px rgba(0, 0, 0, 0.15);\n",
              "      filter: drop-shadow(0px 1px 2px rgba(0, 0, 0, 0.3));\n",
              "      fill: #FFFFFF;\n",
              "    }\n",
              "  </style>\n",
              "\n",
              "      <script>\n",
              "        const buttonEl =\n",
              "          document.querySelector('#df-7b85489c-dcf6-4848-aaf8-a8dddda63e66 button.colab-df-convert');\n",
              "        buttonEl.style.display =\n",
              "          google.colab.kernel.accessAllowed ? 'block' : 'none';\n",
              "\n",
              "        async function convertToInteractive(key) {\n",
              "          const element = document.querySelector('#df-7b85489c-dcf6-4848-aaf8-a8dddda63e66');\n",
              "          const dataTable =\n",
              "            await google.colab.kernel.invokeFunction('convertToInteractive',\n",
              "                                                     [key], {});\n",
              "          if (!dataTable) return;\n",
              "\n",
              "          const docLinkHtml = 'Like what you see? Visit the ' +\n",
              "            '<a target=\"_blank\" href=https://colab.research.google.com/notebooks/data_table.ipynb>data table notebook</a>'\n",
              "            + ' to learn more about interactive tables.';\n",
              "          element.innerHTML = '';\n",
              "          dataTable['output_type'] = 'display_data';\n",
              "          await google.colab.output.renderOutput(dataTable, element);\n",
              "          const docLink = document.createElement('div');\n",
              "          docLink.innerHTML = docLinkHtml;\n",
              "          element.appendChild(docLink);\n",
              "        }\n",
              "      </script>\n",
              "    </div>\n",
              "  </div>\n",
              "  "
            ]
          },
          "metadata": {},
          "execution_count": 21
        }
      ]
    },
    {
      "cell_type": "code",
      "source": [
        "csv_filepath = os.path.join(DIRPATH, \"data\", \"user_profile_hashtag_pairs_v4.csv\")\n",
        "user_pairs_df.to_csv(csv_filepath)"
      ],
      "metadata": {
        "id": "_iuT2gbiEGIg"
      },
      "execution_count": 22,
      "outputs": []
    },
    {
      "cell_type": "markdown",
      "source": [
        "### User Profile Hashtag Co-occurrence Matrix"
      ],
      "metadata": {
        "id": "LQYfiTyAHlL5"
      }
    },
    {
      "cell_type": "code",
      "source": [
        "# https://www.kaggle.com/code/rtatman/co-occurrence-matrix-plot-in-python\n",
        "\n",
        "from pandas import crosstab\n",
        "\n",
        "# https://pandas.pydata.org/pandas-docs/stable/reference/api/pandas.crosstab.html\n",
        "# ... Compute a simple cross tabulation of two (or more) factors.\n",
        "# ... By default, computes a frequency table of the factors \n",
        "# ... index: Values to group by in the rows\n",
        "# ... columns: Values to group by in the columns.\n",
        "# ... rownames: If passed, must match number of row arrays passed\n",
        "# ... colnames: If passed, must match number of column arrays passed.\n",
        "#\n",
        "co_matrix = crosstab(user_pairs_df.tag_0, user_pairs_df.tag_1) \n",
        "\n",
        "print(type(co_matrix))\n",
        "print(co_matrix.shape)\n",
        "co_matrix"
      ],
      "metadata": {
        "id": "oqJtplpxEGDg"
      },
      "execution_count": null,
      "outputs": []
    },
    {
      "cell_type": "code",
      "source": [
        "#> Your session crashed after using all available RAM. If you are interested in access to high-RAM runtimes, you may want to check out Colab Pro.\n",
        "# ... (hmmm, maybe need to do this locally...)"
      ],
      "metadata": {
        "id": "Qc6zg52lEF-d"
      },
      "execution_count": null,
      "outputs": []
    },
    {
      "cell_type": "code",
      "source": [],
      "metadata": {
        "id": "5yBlz3n-EF89"
      },
      "execution_count": null,
      "outputs": []
    },
    {
      "cell_type": "code",
      "source": [],
      "metadata": {
        "id": "lqRoVOp4EF4i"
      },
      "execution_count": null,
      "outputs": []
    },
    {
      "cell_type": "code",
      "source": [],
      "metadata": {
        "id": "mN4akg1MEF1h"
      },
      "execution_count": null,
      "outputs": []
    }
  ]
}